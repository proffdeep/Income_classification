{
 "cells": [
  {
   "cell_type": "code",
   "execution_count": 1,
   "metadata": {},
   "outputs": [],
   "source": [
    "import numpy as np\n",
    "import pandas as pd\n",
    "import warnings\n",
    "warnings.filterwarnings('ignore')\n",
    "from sklearn import preprocessing"
   ]
  },
  {
   "cell_type": "code",
   "execution_count": 2,
   "metadata": {},
   "outputs": [],
   "source": [
    "df = pd.read_csv(\"adult dd- Copy.csv\",header=None)"
   ]
  },
  {
   "cell_type": "code",
   "execution_count": 3,
   "metadata": {},
   "outputs": [],
   "source": [
    "with open('adult.names') as names:\n",
    "    names_data = names.read()\n",
    "    \n",
    "with open('adult.test') as test:\n",
    "    test_data = test.read()"
   ]
  },
  {
   "cell_type": "code",
   "execution_count": 4,
   "metadata": {},
   "outputs": [],
   "source": [
    "#print(names_data)"
   ]
  },
  {
   "cell_type": "code",
   "execution_count": 5,
   "metadata": {},
   "outputs": [],
   "source": [
    "s = '''age,workclass,fnlwgt,education,educationnum,maritalstatus,occupation,relationship,race,sex,capitalgain,captalloss,hoursperweek,nativecountry,target'''\n",
    "s = s.split(',')"
   ]
  },
  {
   "cell_type": "code",
   "execution_count": 6,
   "metadata": {},
   "outputs": [],
   "source": [
    "df.columns = s"
   ]
  },
  {
   "cell_type": "code",
   "execution_count": 7,
   "metadata": {},
   "outputs": [],
   "source": [
    "df['target_new'] = df['target'].apply(lambda ins : 0 if ins == ' <=50K' else 1)"
   ]
  },
  {
   "cell_type": "code",
   "execution_count": 8,
   "metadata": {},
   "outputs": [],
   "source": [
    "df.drop(['target'],axis=1,inplace=True)"
   ]
  },
  {
   "cell_type": "code",
   "execution_count": 9,
   "metadata": {},
   "outputs": [
    {
     "name": "stdout",
     "output_type": "stream",
     "text": [
      "2399\n"
     ]
    }
   ],
   "source": [
    "idxs = []\n",
    "j = 0\n",
    "for j,i in enumerate(df.itertuples()):\n",
    "    if i.nativecountry == ' ?' or i.occupation == ' ?' or i.workclass == ' ?':\n",
    "        idxs.append(j)\n",
    "print(len(idxs))  \n",
    "\n",
    "df[df == ' ?'] = np.nan\n",
    "cols = ['nativecountry','occupation','workclass']\n",
    "for col in cols:\n",
    "    df[col].fillna(df[col].mode()[0],inplace=True)"
   ]
  },
  {
   "cell_type": "code",
   "execution_count": 10,
   "metadata": {},
   "outputs": [
    {
     "name": "stdout",
     "output_type": "stream",
     "text": [
      "TOTAL :  8\n",
      "The total value count of workclass is  Private             24532\n",
      " Self-emp-not-inc     2541\n",
      " Local-gov            2093\n",
      " State-gov            1298\n",
      " Self-emp-inc         1116\n",
      " Federal-gov           960\n",
      " Without-pay            14\n",
      " Never-worked            7\n",
      "Name: workclass, dtype: int64 \n",
      "\n",
      "\n",
      "\n",
      "TOTAL :  16\n",
      "The total value count of education is  HS-grad         10501\n",
      " Some-college     7291\n",
      " Bachelors        5355\n",
      " Masters          1723\n",
      " Assoc-voc        1382\n",
      " 11th             1175\n",
      " Assoc-acdm       1067\n",
      " 10th              933\n",
      " 7th-8th           646\n",
      " Prof-school       576\n",
      " 9th               514\n",
      " 12th              433\n",
      " Doctorate         413\n",
      " 5th-6th           333\n",
      " 1st-4th           168\n",
      " Preschool          51\n",
      "Name: education, dtype: int64 \n",
      "\n",
      "\n",
      "\n",
      "TOTAL :  7\n",
      "The total value count of maritalstatus is  Married-civ-spouse       14976\n",
      " Never-married            10683\n",
      " Divorced                  4443\n",
      " Separated                 1025\n",
      " Widowed                    993\n",
      " Married-spouse-absent      418\n",
      " Married-AF-spouse           23\n",
      "Name: maritalstatus, dtype: int64 \n",
      "\n",
      "\n",
      "\n",
      "TOTAL :  14\n",
      "The total value count of occupation is  Prof-specialty       5983\n",
      " Craft-repair         4099\n",
      " Exec-managerial      4066\n",
      " Adm-clerical         3770\n",
      " Sales                3650\n",
      " Other-service        3295\n",
      " Machine-op-inspct    2002\n",
      " Transport-moving     1597\n",
      " Handlers-cleaners    1370\n",
      " Farming-fishing       994\n",
      " Tech-support          928\n",
      " Protective-serv       649\n",
      " Priv-house-serv       149\n",
      " Armed-Forces            9\n",
      "Name: occupation, dtype: int64 \n",
      "\n",
      "\n",
      "\n",
      "TOTAL :  6\n",
      "The total value count of relationship is  Husband           13193\n",
      " Not-in-family      8305\n",
      " Own-child          5068\n",
      " Unmarried          3446\n",
      " Wife               1568\n",
      " Other-relative      981\n",
      "Name: relationship, dtype: int64 \n",
      "\n",
      "\n",
      "\n",
      "TOTAL :  5\n",
      "The total value count of race is  White                 27816\n",
      " Black                  3124\n",
      " Asian-Pac-Islander     1039\n",
      " Amer-Indian-Eskimo      311\n",
      " Other                   271\n",
      "Name: race, dtype: int64 \n",
      "\n",
      "\n",
      "\n",
      "TOTAL :  2\n",
      "The total value count of sex is  Male      21790\n",
      " Female    10771\n",
      "Name: sex, dtype: int64 \n",
      "\n",
      "\n",
      "\n",
      "TOTAL :  41\n",
      "The total value count of nativecountry is  United-States                 29753\n",
      " Mexico                          643\n",
      " Philippines                     198\n",
      " Germany                         137\n",
      " Canada                          121\n",
      " Puerto-Rico                     114\n",
      " El-Salvador                     106\n",
      " India                           100\n",
      " Cuba                             95\n",
      " England                          90\n",
      " Jamaica                          81\n",
      " South                            80\n",
      " China                            75\n",
      " Italy                            73\n",
      " Dominican-Republic               70\n",
      " Vietnam                          67\n",
      " Guatemala                        64\n",
      " Japan                            62\n",
      " Poland                           60\n",
      " Columbia                         59\n",
      " Taiwan                           51\n",
      " Haiti                            44\n",
      " Iran                             43\n",
      " Portugal                         37\n",
      " Nicaragua                        34\n",
      " Peru                             31\n",
      " Greece                           29\n",
      " France                           29\n",
      " Ecuador                          28\n",
      " Ireland                          24\n",
      " Hong                             20\n",
      " Cambodia                         19\n",
      " Trinadad&Tobago                  19\n",
      " Laos                             18\n",
      " Thailand                         18\n",
      " Yugoslavia                       16\n",
      " Outlying-US(Guam-USVI-etc)       14\n",
      " Hungary                          13\n",
      " Honduras                         13\n",
      " Scotland                         12\n",
      " Holand-Netherlands                1\n",
      "Name: nativecountry, dtype: int64 \n",
      "\n",
      "\n",
      "\n"
     ]
    }
   ],
   "source": [
    "req_cols = [ 'workclass','education','maritalstatus','occupation','relationship','race','sex','nativecountry',]\n",
    "for col in req_cols:\n",
    "    print(f'TOTAL :  {len(df[col].value_counts())}')\n",
    "    print(f'The total value count of {col} is {df[col].value_counts()} ')   \n",
    "    print('\\n\\n')"
   ]
  },
  {
   "cell_type": "code",
   "execution_count": 11,
   "metadata": {},
   "outputs": [],
   "source": [
    "# df.drop(idxs,axis=0,inplace=True)"
   ]
  },
  {
   "cell_type": "code",
   "execution_count": 12,
   "metadata": {},
   "outputs": [
    {
     "data": {
      "text/html": [
       "<div>\n",
       "<style scoped>\n",
       "    .dataframe tbody tr th:only-of-type {\n",
       "        vertical-align: middle;\n",
       "    }\n",
       "\n",
       "    .dataframe tbody tr th {\n",
       "        vertical-align: top;\n",
       "    }\n",
       "\n",
       "    .dataframe thead th {\n",
       "        text-align: right;\n",
       "    }\n",
       "</style>\n",
       "<table border=\"1\" class=\"dataframe\">\n",
       "  <thead>\n",
       "    <tr style=\"text-align: right;\">\n",
       "      <th></th>\n",
       "      <th>age</th>\n",
       "      <th>workclass</th>\n",
       "      <th>fnlwgt</th>\n",
       "      <th>education</th>\n",
       "      <th>educationnum</th>\n",
       "      <th>maritalstatus</th>\n",
       "      <th>occupation</th>\n",
       "      <th>relationship</th>\n",
       "      <th>race</th>\n",
       "      <th>sex</th>\n",
       "      <th>capitalgain</th>\n",
       "      <th>captalloss</th>\n",
       "      <th>hoursperweek</th>\n",
       "      <th>nativecountry</th>\n",
       "      <th>target_new</th>\n",
       "    </tr>\n",
       "  </thead>\n",
       "  <tbody>\n",
       "    <tr>\n",
       "      <th>0</th>\n",
       "      <td>39</td>\n",
       "      <td>State-gov</td>\n",
       "      <td>77516</td>\n",
       "      <td>Bachelors</td>\n",
       "      <td>13</td>\n",
       "      <td>Never-married</td>\n",
       "      <td>Adm-clerical</td>\n",
       "      <td>Not-in-family</td>\n",
       "      <td>White</td>\n",
       "      <td>Male</td>\n",
       "      <td>2174</td>\n",
       "      <td>0</td>\n",
       "      <td>40</td>\n",
       "      <td>United-States</td>\n",
       "      <td>0</td>\n",
       "    </tr>\n",
       "    <tr>\n",
       "      <th>1</th>\n",
       "      <td>50</td>\n",
       "      <td>Self-emp-not-inc</td>\n",
       "      <td>83311</td>\n",
       "      <td>Bachelors</td>\n",
       "      <td>13</td>\n",
       "      <td>Married-civ-spouse</td>\n",
       "      <td>Exec-managerial</td>\n",
       "      <td>Husband</td>\n",
       "      <td>White</td>\n",
       "      <td>Male</td>\n",
       "      <td>0</td>\n",
       "      <td>0</td>\n",
       "      <td>13</td>\n",
       "      <td>United-States</td>\n",
       "      <td>0</td>\n",
       "    </tr>\n",
       "    <tr>\n",
       "      <th>2</th>\n",
       "      <td>38</td>\n",
       "      <td>Private</td>\n",
       "      <td>215646</td>\n",
       "      <td>HS-grad</td>\n",
       "      <td>9</td>\n",
       "      <td>Divorced</td>\n",
       "      <td>Handlers-cleaners</td>\n",
       "      <td>Not-in-family</td>\n",
       "      <td>White</td>\n",
       "      <td>Male</td>\n",
       "      <td>0</td>\n",
       "      <td>0</td>\n",
       "      <td>40</td>\n",
       "      <td>United-States</td>\n",
       "      <td>0</td>\n",
       "    </tr>\n",
       "  </tbody>\n",
       "</table>\n",
       "</div>"
      ],
      "text/plain": [
       "   age          workclass  fnlwgt   education  educationnum  \\\n",
       "0   39          State-gov   77516   Bachelors            13   \n",
       "1   50   Self-emp-not-inc   83311   Bachelors            13   \n",
       "2   38            Private  215646     HS-grad             9   \n",
       "\n",
       "         maritalstatus          occupation    relationship    race    sex  \\\n",
       "0        Never-married        Adm-clerical   Not-in-family   White   Male   \n",
       "1   Married-civ-spouse     Exec-managerial         Husband   White   Male   \n",
       "2             Divorced   Handlers-cleaners   Not-in-family   White   Male   \n",
       "\n",
       "   capitalgain  captalloss  hoursperweek   nativecountry  target_new  \n",
       "0         2174           0            40   United-States           0  \n",
       "1            0           0            13   United-States           0  \n",
       "2            0           0            40   United-States           0  "
      ]
     },
     "execution_count": 12,
     "metadata": {},
     "output_type": "execute_result"
    }
   ],
   "source": [
    "df.head(3)"
   ]
  },
  {
   "cell_type": "code",
   "execution_count": 13,
   "metadata": {},
   "outputs": [],
   "source": [
    "req_features = ['workclass','education','maritalstatus','occupation','relationship','race','sex','nativecountry']\n",
    "for feature in req_features:\n",
    "    le = preprocessing.LabelEncoder()\n",
    "    df[feature] = le.fit_transform(df[feature])\n",
    "#     X_test[feature] = le.transform(X_test[feature])"
   ]
  },
  {
   "cell_type": "code",
   "execution_count": 14,
   "metadata": {},
   "outputs": [
    {
     "name": "stdout",
     "output_type": "stream",
     "text": [
      "(32561, 14) (32561,)\n"
     ]
    }
   ],
   "source": [
    "X = df.drop(['target_new'],axis = 1).values\n",
    "y = df['target_new'].values\n",
    "\n",
    "print(X.shape,y.shape)"
   ]
  },
  {
   "cell_type": "code",
   "execution_count": 15,
   "metadata": {},
   "outputs": [
    {
     "name": "stdout",
     "output_type": "stream",
     "text": [
      "(15682, 14) (15682,)\n"
     ]
    }
   ],
   "source": [
    "# from imblearn.combine import SMOTEENN\n",
    "# sme = SMOTEENN(random_state=42)\n",
    "# X_res, y_res = sme.fit_resample(X, y)\n",
    "\n",
    "from imblearn.under_sampling import NearMiss\n",
    "nm = NearMiss()\n",
    "X_res, y_res = nm.fit_resample(X, y)\n",
    "print(X_res.shape,y_res.shape)"
   ]
  },
  {
   "cell_type": "code",
   "execution_count": 16,
   "metadata": {},
   "outputs": [
    {
     "name": "stdout",
     "output_type": "stream",
     "text": [
      "Resampled dataset shape Counter({0: 7841, 1: 7841})\n"
     ]
    }
   ],
   "source": [
    "from collections import Counter\n",
    "print('Resampled dataset shape %s' % Counter(y_res))"
   ]
  },
  {
   "cell_type": "code",
   "execution_count": 17,
   "metadata": {},
   "outputs": [],
   "source": [
    "from sklearn.model_selection import train_test_split"
   ]
  },
  {
   "cell_type": "code",
   "execution_count": 18,
   "metadata": {},
   "outputs": [],
   "source": [
    "X_train, X_test, y_train, y_test = train_test_split(X_res, y_res, test_size=0.2, random_state=42)"
   ]
  },
  {
   "cell_type": "code",
   "execution_count": 19,
   "metadata": {},
   "outputs": [],
   "source": [
    "from sklearn import preprocessing"
   ]
  },
  {
   "cell_type": "code",
   "execution_count": 20,
   "metadata": {},
   "outputs": [],
   "source": [
    "scaler = preprocessing.StandardScaler()\n",
    "X_train = scaler.fit_transform(X_train)\n",
    "X_test = scaler.transform(X_test)"
   ]
  },
  {
   "cell_type": "code",
   "execution_count": 21,
   "metadata": {},
   "outputs": [],
   "source": [
    "from sklearn.metrics import accuracy_score,classification_report,confusion_matrix\n",
    "from sklearn.linear_model import LogisticRegression\n",
    "from sklearn.svm import SVC\n",
    "from sklearn.ensemble import RandomForestClassifier\n",
    "from sklearn.tree import DecisionTreeClassifier"
   ]
  },
  {
   "cell_type": "code",
   "execution_count": 24,
   "metadata": {},
   "outputs": [],
   "source": [
    "# classifier = LogisticRegression()\n",
    "classifier = SVC()\n",
    "# classifier = RandomForestClassifier()\n",
    "# classifier = DecisionTreeClassifier()"
   ]
  },
  {
   "cell_type": "code",
   "execution_count": 25,
   "metadata": {},
   "outputs": [
    {
     "data": {
      "text/plain": [
       "SVC()"
      ]
     },
     "execution_count": 25,
     "metadata": {},
     "output_type": "execute_result"
    }
   ],
   "source": [
    "classifier.fit(X_train,y_train)"
   ]
  },
  {
   "cell_type": "code",
   "execution_count": 26,
   "metadata": {},
   "outputs": [],
   "source": [
    "pred = classifier.predict(X_test)"
   ]
  },
  {
   "cell_type": "code",
   "execution_count": 27,
   "metadata": {},
   "outputs": [
    {
     "name": "stdout",
     "output_type": "stream",
     "text": [
      "0.819254064392732\n"
     ]
    }
   ],
   "source": [
    "print(accuracy_score(y_test,pred))"
   ]
  },
  {
   "cell_type": "code",
   "execution_count": 28,
   "metadata": {},
   "outputs": [
    {
     "name": "stdout",
     "output_type": "stream",
     "text": [
      "[[1260  295]\n",
      " [ 272 1310]]\n",
      "              precision    recall  f1-score   support\n",
      "\n",
      "           0       0.82      0.81      0.82      1555\n",
      "           1       0.82      0.83      0.82      1582\n",
      "\n",
      "    accuracy                           0.82      3137\n",
      "   macro avg       0.82      0.82      0.82      3137\n",
      "weighted avg       0.82      0.82      0.82      3137\n",
      "\n"
     ]
    }
   ],
   "source": [
    "print(confusion_matrix(y_test,pred))\n",
    "print(classification_report(y_test,pred))"
   ]
  },
  {
   "cell_type": "code",
   "execution_count": 29,
   "metadata": {},
   "outputs": [],
   "source": [
    "## Neural Network\n",
    "from tensorflow.keras.models import Sequential\n",
    "from tensorflow.keras.layers import Dense,Dropout\n",
    "from tensorflow.keras.callbacks import EarlyStopping"
   ]
  },
  {
   "cell_type": "code",
   "execution_count": 30,
   "metadata": {},
   "outputs": [],
   "source": [
    "y_train = y_train.reshape(y_train.shape[0],1)"
   ]
  },
  {
   "cell_type": "code",
   "execution_count": 31,
   "metadata": {},
   "outputs": [
    {
     "data": {
      "text/plain": [
       "((12545, 14), (12545, 1))"
      ]
     },
     "execution_count": 31,
     "metadata": {},
     "output_type": "execute_result"
    }
   ],
   "source": [
    "X_train.shape,y_train.shape"
   ]
  },
  {
   "cell_type": "code",
   "execution_count": 32,
   "metadata": {
    "scrolled": true
   },
   "outputs": [
    {
     "name": "stderr",
     "output_type": "stream",
     "text": [
      "WARNING: Logging before flag parsing goes to stderr.\n",
      "W0918 18:49:47.587024  4288 deprecation.py:506] From c:\\users\\pankaj choudhary\\appdata\\local\\programs\\python\\python37\\lib\\site-packages\\tensorflow\\python\\ops\\init_ops.py:1251: calling VarianceScaling.__init__ (from tensorflow.python.ops.init_ops) with dtype is deprecated and will be removed in a future version.\n",
      "Instructions for updating:\n",
      "Call initializer instance with the dtype argument instead of passing it to the constructor\n",
      "W0918 18:49:47.757926  4288 deprecation.py:323] From c:\\users\\pankaj choudhary\\appdata\\local\\programs\\python\\python37\\lib\\site-packages\\tensorflow\\python\\ops\\nn_impl.py:180: add_dispatch_support.<locals>.wrapper (from tensorflow.python.ops.array_ops) is deprecated and will be removed in a future version.\n",
      "Instructions for updating:\n",
      "Use tf.where in 2.0, which has the same broadcast rule as np.where\n"
     ]
    },
    {
     "name": "stdout",
     "output_type": "stream",
     "text": [
      "Model: \"sequential\"\n",
      "_________________________________________________________________\n",
      "Layer (type)                 Output Shape              Param #   \n",
      "=================================================================\n",
      "dense (Dense)                (None, 20)                300       \n",
      "_________________________________________________________________\n",
      "dense_1 (Dense)              (None, 20)                420       \n",
      "_________________________________________________________________\n",
      "dense_2 (Dense)              (None, 1)                 21        \n",
      "=================================================================\n",
      "Total params: 741\n",
      "Trainable params: 741\n",
      "Non-trainable params: 0\n",
      "_________________________________________________________________\n",
      "Train on 12545 samples, validate on 3137 samples\n",
      "Epoch 1/200\n",
      "12545/12545 [==============================] - 1s 84us/sample - loss: 0.5021 - acc: 0.7428 - val_loss: 0.4444 - val_acc: 0.7880\n",
      "Epoch 2/200\n",
      "12545/12545 [==============================] - 1s 71us/sample - loss: 0.4028 - acc: 0.8065 - val_loss: 0.3994 - val_acc: 0.8081\n",
      "Epoch 3/200\n",
      "12545/12545 [==============================] - 1s 70us/sample - loss: 0.3799 - acc: 0.8188 - val_loss: 0.3853 - val_acc: 0.8154\n",
      "Epoch 4/200\n",
      "12545/12545 [==============================] - 1s 71us/sample - loss: 0.3715 - acc: 0.8238 - val_loss: 0.3785 - val_acc: 0.8208\n",
      "Epoch 5/200\n",
      "12545/12545 [==============================] - 1s 86us/sample - loss: 0.3656 - acc: 0.8253 - val_loss: 0.3754 - val_acc: 0.8224\n",
      "Epoch 6/200\n",
      "12545/12545 [==============================] - 1s 92us/sample - loss: 0.3617 - acc: 0.8290 - val_loss: 0.3740 - val_acc: 0.8250\n",
      "Epoch 7/200\n",
      "12545/12545 [==============================] - 1s 75us/sample - loss: 0.3591 - acc: 0.8305 - val_loss: 0.3708 - val_acc: 0.8231\n",
      "Epoch 8/200\n",
      "12545/12545 [==============================] - 1s 73us/sample - loss: 0.3570 - acc: 0.8287 - val_loss: 0.3703 - val_acc: 0.8240\n",
      "Epoch 9/200\n",
      "12545/12545 [==============================] - 1s 67us/sample - loss: 0.3557 - acc: 0.8314 - val_loss: 0.3686 - val_acc: 0.8250\n",
      "Epoch 10/200\n",
      "12545/12545 [==============================] - 1s 64us/sample - loss: 0.3543 - acc: 0.8313 - val_loss: 0.3684 - val_acc: 0.8240\n",
      "Epoch 11/200\n",
      "12545/12545 [==============================] - 1s 87us/sample - loss: 0.3527 - acc: 0.8332 - val_loss: 0.3694 - val_acc: 0.8263\n",
      "Epoch 12/200\n",
      "12545/12545 [==============================] - 1s 65us/sample - loss: 0.3509 - acc: 0.8337 - val_loss: 0.3697 - val_acc: 0.8250\n",
      "Epoch 13/200\n",
      "12545/12545 [==============================] - 1s 70us/sample - loss: 0.3505 - acc: 0.8336 - val_loss: 0.3682 - val_acc: 0.8234\n",
      "Epoch 14/200\n",
      "12545/12545 [==============================] - 1s 66us/sample - loss: 0.3490 - acc: 0.8350 - val_loss: 0.3677 - val_acc: 0.8244\n",
      "Epoch 15/200\n",
      "12545/12545 [==============================] - 1s 72us/sample - loss: 0.3484 - acc: 0.8340 - val_loss: 0.3693 - val_acc: 0.8221\n",
      "Epoch 16/200\n",
      "12545/12545 [==============================] - 1s 85us/sample - loss: 0.3476 - acc: 0.8332 - val_loss: 0.3666 - val_acc: 0.8288\n",
      "Epoch 17/200\n",
      "12545/12545 [==============================] - 1s 106us/sample - loss: 0.3463 - acc: 0.8325 - val_loss: 0.3703 - val_acc: 0.8256\n",
      "Epoch 18/200\n",
      "12545/12545 [==============================] - 1s 76us/sample - loss: 0.3461 - acc: 0.8349 - val_loss: 0.3678 - val_acc: 0.8224\n",
      "Epoch 19/200\n",
      "12545/12545 [==============================] - 1s 76us/sample - loss: 0.3454 - acc: 0.8339 - val_loss: 0.3675 - val_acc: 0.8237\n",
      "Epoch 20/200\n",
      "12545/12545 [==============================] - 1s 76us/sample - loss: 0.3454 - acc: 0.8356 - val_loss: 0.3671 - val_acc: 0.8221\n",
      "Epoch 21/200\n",
      "12545/12545 [==============================] - 1s 69us/sample - loss: 0.3443 - acc: 0.8351 - val_loss: 0.3670 - val_acc: 0.8228\n",
      "Epoch 22/200\n",
      "12545/12545 [==============================] - 1s 72us/sample - loss: 0.3438 - acc: 0.8369 - val_loss: 0.3711 - val_acc: 0.8256\n",
      "Epoch 23/200\n",
      "12545/12545 [==============================] - 1s 93us/sample - loss: 0.3430 - acc: 0.8344 - val_loss: 0.3712 - val_acc: 0.8193\n",
      "Epoch 24/200\n",
      "12545/12545 [==============================] - 1s 72us/sample - loss: 0.3435 - acc: 0.8346 - val_loss: 0.3679 - val_acc: 0.8247\n",
      "Epoch 25/200\n",
      "12545/12545 [==============================] - 1s 67us/sample - loss: 0.3425 - acc: 0.8337 - val_loss: 0.3667 - val_acc: 0.8263\n",
      "Epoch 26/200\n",
      "12545/12545 [==============================] - 1s 74us/sample - loss: 0.3415 - acc: 0.8361 - val_loss: 0.3711 - val_acc: 0.8228\n"
     ]
    }
   ],
   "source": [
    "model = Sequential()\n",
    "model.add(Dense(20,activation='relu',input_dim=X_train.shape[1]))\n",
    "model.add(Dense(20,activation='relu'))\n",
    "model.add(Dense(1,activation='sigmoid'))\n",
    "\n",
    "model.compile(loss='binary_crossentropy',optimizer='adam',metrics=['accuracy'])\n",
    "model.summary()\n",
    "\n",
    "cb_ES = [EarlyStopping(patience=10,mode='min',restore_best_weights=True)]\n",
    "\n",
    "history = model.fit(X_train,y_train,epochs=200,callbacks=cb_ES,batch_size=32,validation_data=(X_test,y_test),shuffle=True)"
   ]
  },
  {
   "cell_type": "code",
   "execution_count": 37,
   "metadata": {},
   "outputs": [
    {
     "data": {
      "image/png": "[encoded data removed]",
      "text/plain": [
       "<Figure size 432x288 with 1 Axes>"
      ]
     },
     "metadata": {
      "needs_background": "light"
     },
     "output_type": "display_data"
    }
   ],
   "source": [
    "import matplotlib.pyplot as plt\n",
    "plt.plot(history.history['acc'],c='red')\n",
    "plt.plot(history.history['val_acc'],c='green')\n",
    "plt.show()"
   ]
  },
  {
   "cell_type": "code",
   "execution_count": 34,
   "metadata": {},
   "outputs": [],
   "source": [
    "y_pred = model.predict_classes(X_test)"
   ]
  },
  {
   "cell_type": "code",
   "execution_count": 35,
   "metadata": {},
   "outputs": [
    {
     "name": "stdout",
     "output_type": "stream",
     "text": [
      "0.8288173414089894\n"
     ]
    }
   ],
   "source": [
    "print(accuracy_score(y_test,y_pred))"
   ]
  },
  {
   "cell_type": "code",
   "execution_count": 36,
   "metadata": {},
   "outputs": [
    {
     "name": "stdout",
     "output_type": "stream",
     "text": [
      "              precision    recall  f1-score   support\n",
      "\n",
      "           0       0.84      0.81      0.82      1555\n",
      "           1       0.82      0.85      0.83      1582\n",
      "\n",
      "    accuracy                           0.83      3137\n",
      "   macro avg       0.83      0.83      0.83      3137\n",
      "weighted avg       0.83      0.83      0.83      3137\n",
      "\n"
     ]
    }
   ],
   "source": [
    "print(classification_report(y_test,y_pred))"
   ]
  },
  {
   "cell_type": "markdown",
   "metadata": {},
   "source": [
    "#### END"
   ]
  }
 ],
 "metadata": {
  "kernelspec": {
   "display_name": "Python 3",
   "language": "python",
   "name": "python3"
  },
  "language_info": {
   "codemirror_mode": {
    "name": "ipython",
    "version": 3
   },
   "file_extension": ".py",
   "mimetype": "text/x-python",
   "name": "python",
   "nbconvert_exporter": "python",
   "pygments_lexer": "ipython3",
   "version": "3.7.4"
  }
 },
 "nbformat": 4,
 "nbformat_minor": 2
}
